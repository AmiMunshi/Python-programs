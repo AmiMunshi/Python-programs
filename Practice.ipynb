{
  "nbformat": 4,
  "nbformat_minor": 0,
  "metadata": {
    "colab": {
      "name": "Practice.ipynb",
      "provenance": [],
      "authorship_tag": "ABX9TyMwXnlgv0qLjja6974OQQj2",
      "include_colab_link": true
    },
    "kernelspec": {
      "name": "python3",
      "display_name": "Python 3"
    },
    "language_info": {
      "name": "python"
    }
  },
  "cells": [
    {
      "cell_type": "markdown",
      "metadata": {
        "id": "view-in-github",
        "colab_type": "text"
      },
      "source": [
        "<a href=\"https://colab.research.google.com/github/AmiMunshi/Python-programs/blob/master/Practice.ipynb\" target=\"_parent\"><img src=\"https://colab.research.google.com/assets/colab-badge.svg\" alt=\"Open In Colab\"/></a>"
      ]
    },
    {
      "cell_type": "markdown",
      "metadata": {
        "id": "0xGt00PC7UXt"
      },
      "source": [
        "My first Python Program"
      ]
    },
    {
      "cell_type": "code",
      "metadata": {
        "colab": {
          "base_uri": "https://localhost:8080/"
        },
        "id": "0jOgVArj6fia",
        "outputId": "4b2c85b4-aeb8-4206-cd1e-f3ea71db64ca"
      },
      "source": [
        "a= 7\n",
        "b=9\n",
        "c= a+b\n",
        "print(c)"
      ],
      "execution_count": 1,
      "outputs": [
        {
          "output_type": "stream",
          "text": [
            "16\n"
          ],
          "name": "stdout"
        }
      ]
    },
    {
      "cell_type": "code",
      "metadata": {
        "colab": {
          "base_uri": "https://localhost:8080/"
        },
        "id": "9SQ0yPdh6lkL",
        "outputId": "c0265538-90bc-4119-ef67-8b0e8752265e"
      },
      "source": [
        "#Program to add two numbers\n",
        "x= int(input(\"Enter a number: \")) # Take the two number  from the user\n",
        "y= input(\"Enter second number: \")\n",
        "y= int(y)\n",
        "z= y-x #Use subtraction operation\n",
        "print(\"Difference between y and x is z= \",z) #Print the result"
      ],
      "execution_count": 6,
      "outputs": [
        {
          "output_type": "stream",
          "text": [
            "Enter a number: 8\n",
            "Enter second number: 9\n",
            "Difference between y and x is z=  1\n"
          ],
          "name": "stdout"
        }
      ]
    },
    {
      "cell_type": "code",
      "metadata": {
        "colab": {
          "base_uri": "https://localhost:8080/"
        },
        "id": "4_G3ghyZ7QFl",
        "outputId": "222b2e31-b490-4746-8a7b-fe1e928e2374"
      },
      "source": [
        "type(x) #Find the type of x"
      ],
      "execution_count": 7,
      "outputs": [
        {
          "output_type": "execute_result",
          "data": {
            "text/plain": [
              "int"
            ]
          },
          "metadata": {
            "tags": []
          },
          "execution_count": 7
        }
      ]
    },
    {
      "cell_type": "code",
      "metadata": {
        "colab": {
          "base_uri": "https://localhost:8080/"
        },
        "id": "CrEglxRb7z-N",
        "outputId": "4996cadd-d5ca-4373-a2fc-7f873883bf28"
      },
      "source": [
        "greet= \"Good Morning\"\n",
        "name= \"Ami Munshi\"\n",
        "\n",
        "print(\"Welcome and \", greet , name)"
      ],
      "execution_count": 8,
      "outputs": [
        {
          "output_type": "stream",
          "text": [
            "Welcome and  Good Morning Ami Munshi\n"
          ],
          "name": "stdout"
        }
      ]
    },
    {
      "cell_type": "code",
      "metadata": {
        "colab": {
          "base_uri": "https://localhost:8080/"
        },
        "id": "EUMGwjjb8987",
        "outputId": "e254235b-6d22-4a92-ca00-11693edef0d4"
      },
      "source": [
        "type(greet)"
      ],
      "execution_count": 9,
      "outputs": [
        {
          "output_type": "execute_result",
          "data": {
            "text/plain": [
              "str"
            ]
          },
          "metadata": {
            "tags": []
          },
          "execution_count": 9
        }
      ]
    },
    {
      "cell_type": "code",
      "metadata": {
        "colab": {
          "base_uri": "https://localhost:8080/"
        },
        "id": "nu4ktzQu9Gc6",
        "outputId": "8ceb9025-afee-48dd-b74e-d6b57a147d84"
      },
      "source": [
        "para= input(\"Enter your data: \")\n"
      ],
      "execution_count": 10,
      "outputs": [
        {
          "output_type": "stream",
          "text": [
            "Enter your data: dkkfjdskljlgjljsdjg;f;d;gjfdjjlfdkjlj\n"
          ],
          "name": "stdout"
        }
      ]
    },
    {
      "cell_type": "code",
      "metadata": {
        "colab": {
          "base_uri": "https://localhost:8080/"
        },
        "id": "TEV0DUxA_o86",
        "outputId": "a16514cd-02a4-4fa8-9a53-95e8405a191d"
      },
      "source": [
        "type(para)"
      ],
      "execution_count": 11,
      "outputs": [
        {
          "output_type": "execute_result",
          "data": {
            "text/plain": [
              "str"
            ]
          },
          "metadata": {
            "tags": []
          },
          "execution_count": 11
        }
      ]
    },
    {
      "cell_type": "code",
      "metadata": {
        "colab": {
          "base_uri": "https://localhost:8080/"
        },
        "id": "v98IAcWs_scy",
        "outputId": "e7c19645-1042-4b3a-f505-6b4dc2e8a000"
      },
      "source": [
        "len(para) "
      ],
      "execution_count": 12,
      "outputs": [
        {
          "output_type": "execute_result",
          "data": {
            "text/plain": [
              "37"
            ]
          },
          "metadata": {
            "tags": []
          },
          "execution_count": 12
        }
      ]
    },
    {
      "cell_type": "code",
      "metadata": {
        "id": "nt6QTaX1_1si"
      },
      "source": [
        ""
      ],
      "execution_count": null,
      "outputs": []
    }
  ]
}