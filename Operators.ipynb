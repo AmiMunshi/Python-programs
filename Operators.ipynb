{
  "nbformat": 4,
  "nbformat_minor": 0,
  "metadata": {
    "colab": {
      "name": "Operators.ipynb",
      "provenance": [],
      "authorship_tag": "ABX9TyOYNURQmHsdYF1/uolylMDQ",
      "include_colab_link": true
    },
    "kernelspec": {
      "name": "python3",
      "display_name": "Python 3"
    }
  },
  "cells": [
    {
      "cell_type": "markdown",
      "metadata": {
        "id": "view-in-github",
        "colab_type": "text"
      },
      "source": [
        "<a href=\"https://colab.research.google.com/github/AmiMunshi/Python-programs/blob/master/Operators.ipynb\" target=\"_parent\"><img src=\"https://colab.research.google.com/assets/colab-badge.svg\" alt=\"Open In Colab\"/></a>"
      ]
    },
    {
      "cell_type": "markdown",
      "metadata": {
        "id": "3DilIeJCi_PX"
      },
      "source": [
        "Name:Ami Munshi <br>\n",
        "Roll :"
      ]
    },
    {
      "cell_type": "code",
      "metadata": {
        "id": "LDfHck0Y7pld"
      },
      "source": [
        ""
      ],
      "execution_count": null,
      "outputs": []
    },
    {
      "cell_type": "code",
      "metadata": {
        "id": "aH2rdsVp7qA2"
      },
      "source": [
        ""
      ],
      "execution_count": null,
      "outputs": []
    },
    {
      "cell_type": "markdown",
      "metadata": {
        "id": "XS0VGzDgCnO4"
      },
      "source": [
        "Experiment 2- Operators<br>\n",
        "Aim:<br> \n",
        "1. To write a program to develop a simple calculator using operators<br>\n",
        "2. To write a program to check even, odd and prime numbers<br>\n",
        "3. To write a program to implement basic logic gates (AND, OR, NOT, XOR, NAND, NOR) <br>\n",
        "4. To write a program to identify if the string length is two or more and the first and last characters are same <br>\n",
        "5. To write a program to determine all the Pythagorean triplets in the given range<br>\n"
      ]
    },
    {
      "cell_type": "markdown",
      "metadata": {
        "id": "_GwwYlzxDDTt"
      },
      "source": [
        "Program to implement Pythagorean Triplet"
      ]
    },
    {
      "cell_type": "code",
      "metadata": {
        "id": "OXrMWP1oA3aw",
        "colab": {
          "base_uri": "https://localhost:8080/",
          "height": 235
        },
        "outputId": "4ec14f22-0705-4ae4-cd58-c4429c3b0f8f"
      },
      "source": [
        "n= int(input(\"Enter the max limit: \"))\n",
        "\n",
        "for a in range(1,n):\n",
        "  for b in range(a+1,n):\n",
        "   for c in range(b+1,n):\n",
        "     if c**2== a**2 +b**2:\n",
        "       print(a,b,c)"
      ],
      "execution_count": null,
      "outputs": [
        {
          "output_type": "stream",
          "text": [
            "Enter the max limit: 35\n",
            "3 4 5\n",
            "5 12 13\n",
            "6 8 10\n",
            "7 24 25\n",
            "8 15 17\n",
            "9 12 15\n",
            "10 24 26\n",
            "12 16 20\n",
            "15 20 25\n",
            "16 30 34\n",
            "18 24 30\n",
            "20 21 29\n"
          ],
          "name": "stdout"
        }
      ]
    },
    {
      "cell_type": "markdown",
      "metadata": {
        "id": "SoP7STj-EM9g"
      },
      "source": [
        "Program to implement simple calculator using operators"
      ]
    },
    {
      "cell_type": "code",
      "metadata": {
        "id": "M5sfboLGkYoj",
        "colab": {
          "base_uri": "https://localhost:8080/",
          "height": 50
        },
        "outputId": "8988dcb0-3695-4cfd-8901-8ff783399848"
      },
      "source": [
        "x= input(\"enter your choice :\")\n",
        "if x==\"*\":\n",
        "  print(\"Multiplication\")\n",
        "elif x==\"/\":\n",
        "  print(\"Division\")\n",
        "else:\n",
        "   print(\"Addition\")"
      ],
      "execution_count": null,
      "outputs": [
        {
          "output_type": "stream",
          "text": [
            "enter your choice :+\n",
            "Addition\n"
          ],
          "name": "stdout"
        }
      ]
    },
    {
      "cell_type": "code",
      "metadata": {
        "id": "iLUc_q-slPeB",
        "colab": {
          "base_uri": "https://localhost:8080/",
          "height": 84
        },
        "outputId": "a5449e7d-1e34-47e0-d80f-fb0e65b60f43"
      },
      "source": [
        "a= int(input(\"Enter number one: \"))\n",
        "b= int(input(\"Enter number two: \"))\n",
        "choice= input(\"Enter your choice :\\\n",
        "* for multiplication\\\n",
        "/ for division\")\n",
        "\n",
        "if choice== \"*\":\n",
        "  y= a*b\n",
        "  print(y)\n",
        "else:\n",
        "  y= a/b\n",
        "  print(b)"
      ],
      "execution_count": null,
      "outputs": [
        {
          "output_type": "stream",
          "text": [
            "Enter number one: 4\n",
            "Enter number two: 5\n",
            "Enter your choice :* for multiplication/ for division*\n",
            "20\n"
          ],
          "name": "stdout"
        }
      ]
    },
    {
      "cell_type": "code",
      "metadata": {
        "id": "xr_16vNWB8UQ",
        "colab": {
          "base_uri": "https://localhost:8080/",
          "height": 67
        },
        "outputId": "c411af50-593e-4b86-f982-2601addec90a"
      },
      "source": [
        "a= int(input(\"Enter the first number:\"))  #Input two numbers from the user\n",
        "b= int(input(\"Enter the second number:\"))\n",
        "choice= input(\"Enter your choice of operation\\\n",
        "* for multiplication,\\\n",
        "/ for division\\\n",
        "+ for addition\\\n",
        "- for subtraction: \") #Input the operation sign"
      ],
      "execution_count": null,
      "outputs": [
        {
          "output_type": "stream",
          "text": [
            "Enter the first number:4\n",
            "Enter the second number:6\n",
            "Enter your choice of operation* for multiplication,/ for division+ for addition- for substraction: x\n"
          ],
          "name": "stdout"
        }
      ]
    },
    {
      "cell_type": "code",
      "metadata": {
        "id": "PnLQnd_T3RkF",
        "colab": {
          "base_uri": "https://localhost:8080/",
          "height": 34
        },
        "outputId": "01c1fe06-71b3-4aa4-f267-3774d700befc"
      },
      "source": [
        "if choice=='*':\n",
        "  y= a * b\n",
        "  print(str(a), \"*\", str(b), \"=\", y)\n",
        "elif choice == '/':\n",
        "  y= a/b\n",
        "elif choice== '+':\n",
        "  y= a+b\n",
        "elif choice== '-':\n",
        "  y= a-b\n",
        "else:\n",
        "  print(\"You have not entered the appropriate choice!\")"
      ],
      "execution_count": null,
      "outputs": [
        {
          "output_type": "stream",
          "text": [
            "You have not entered the appropriate choice!\n"
          ],
          "name": "stdout"
        }
      ]
    },
    {
      "cell_type": "markdown",
      "metadata": {
        "id": "2ETL7uG756Wk"
      },
      "source": [
        "Program to check for even, odd and prime numbers"
      ]
    },
    {
      "cell_type": "code",
      "metadata": {
        "id": "tZ4mbaOO5apE",
        "colab": {
          "base_uri": "https://localhost:8080/",
          "height": 34
        },
        "outputId": "b00103ed-a1ff-4d49-dfc0-0a8fb4c2ac37"
      },
      "source": [
        "num= int(input(\"Enter number of your choice: \"))\n"
      ],
      "execution_count": null,
      "outputs": [
        {
          "output_type": "stream",
          "text": [
            "Enter number of your choice: 7\n"
          ],
          "name": "stdout"
        }
      ]
    },
    {
      "cell_type": "code",
      "metadata": {
        "id": "4t_YY3RCqto4",
        "colab": {
          "base_uri": "https://localhost:8080/",
          "height": 50
        },
        "outputId": "ee302412-136d-427d-982b-d1645f287dc4"
      },
      "source": [
        "n= int(input(\"Enter your choice :\"))\n",
        "for i in range (2, n):\n",
        "  if n%i==0:\n",
        "    print(\"Not prime\")\n",
        "    break\n",
        "else:\n",
        "  print(\"Prime\")\n",
        "    \n",
        "\n"
      ],
      "execution_count": null,
      "outputs": [
        {
          "output_type": "stream",
          "text": [
            "Enter your choice :15\n",
            "Not prime\n"
          ],
          "name": "stdout"
        }
      ]
    },
    {
      "cell_type": "code",
      "metadata": {
        "id": "0ceWEbT48OQC",
        "colab": {
          "base_uri": "https://localhost:8080/",
          "height": 34
        },
        "outputId": "1c25df74-097c-42d6-e48f-c677a11e7f75"
      },
      "source": [
        "#program to check for prime number\n",
        "\n",
        "for i in range (2,num):\n",
        "  if num % i==0:\n",
        "    print(\"number is not prime\")\n",
        "    break\n",
        "else:\n",
        "    print(\"number is prime\")"
      ],
      "execution_count": null,
      "outputs": [
        {
          "output_type": "stream",
          "text": [
            "number is prime\n"
          ],
          "name": "stdout"
        }
      ]
    },
    {
      "cell_type": "code",
      "metadata": {
        "id": "6i-OtuDE7MMk",
        "colab": {
          "base_uri": "https://localhost:8080/",
          "height": 50
        },
        "outputId": "b5732258-65fb-45e7-e01f-73f326b3c6ef"
      },
      "source": [
        "# Program to check even, odd and prime numbers\n",
        "num= int(input(\"Enter your number: \"))\n",
        "if num==2:\n",
        "  print(\"Prime\")\n",
        "elif num % 2==0:\n",
        "  print(\"The number is even\")\n",
        "else:\n",
        "  for i in range (2,num):\n",
        "    if num % i==0:\n",
        "      print(\"number is odd\")\n",
        "      break\n",
        "  else:\n",
        "    print(\"number is odd and prime\")"
      ],
      "execution_count": null,
      "outputs": [
        {
          "output_type": "stream",
          "text": [
            "Enter your number: 15\n",
            "number is odd\n"
          ],
          "name": "stdout"
        }
      ]
    },
    {
      "cell_type": "code",
      "metadata": {
        "id": "IHf-WIlT9dKY"
      },
      "source": [
        ""
      ],
      "execution_count": null,
      "outputs": []
    },
    {
      "cell_type": "markdown",
      "metadata": {
        "id": "UefOB-vk-rZY"
      },
      "source": [
        "Program to implement logic gates"
      ]
    },
    {
      "cell_type": "code",
      "metadata": {
        "id": "_b0nX6OC-9s-",
        "colab": {
          "base_uri": "https://localhost:8080/"
        },
        "outputId": "571eaee4-1f92-49b4-ba9f-6f4e40937136"
      },
      "source": [
        "x= bool(int(input(\"Enter the first number:\")))\n",
        "y= bool(int(input(\"Enter the second number:\")))"
      ],
      "execution_count": null,
      "outputs": [
        {
          "output_type": "stream",
          "text": [
            "Enter the first number:1\n",
            "Enter the second number:0\n"
          ],
          "name": "stdout"
        }
      ]
    },
    {
      "cell_type": "code",
      "metadata": {
        "id": "YKyrX2P2z1kn",
        "colab": {
          "base_uri": "https://localhost:8080/"
        },
        "outputId": "d77fa344-6e98-407d-cf1c-a5da25ed718f"
      },
      "source": [
        "\n",
        "type(x)"
      ],
      "execution_count": null,
      "outputs": [
        {
          "output_type": "execute_result",
          "data": {
            "text/plain": [
              "bool"
            ]
          },
          "metadata": {
            "tags": []
          },
          "execution_count": 20
        }
      ]
    },
    {
      "cell_type": "code",
      "metadata": {
        "id": "7RmjU4PtyX3-",
        "colab": {
          "base_uri": "https://localhost:8080/",
          "height": 34
        },
        "outputId": "407638d0-28e8-4129-d239-30d148936f37"
      },
      "source": [
        "#And gate\n",
        "if x==True and y== True:\n",
        "  print(True)\n",
        "else:\n",
        "  print(False)"
      ],
      "execution_count": null,
      "outputs": [
        {
          "output_type": "stream",
          "text": [
            "True\n"
          ],
          "name": "stdout"
        }
      ]
    },
    {
      "cell_type": "code",
      "metadata": {
        "id": "U49ZfwxA0njh",
        "colab": {
          "base_uri": "https://localhost:8080/"
        },
        "outputId": "a71ae589-8a41-4f9a-cfda-7c81dc421001"
      },
      "source": [
        "#Or Gate\n",
        "x= bool(int(input(\"Enter the 1 or 0:\")))\n",
        "y= bool(int(input(\"Enter the 1 or 0:\")))\n",
        "print(x or y)"
      ],
      "execution_count": null,
      "outputs": [
        {
          "output_type": "stream",
          "text": [
            "Enter the 1 or 0:1\n",
            "Enter the 1 or 0:0\n",
            "True\n"
          ],
          "name": "stdout"
        }
      ]
    },
    {
      "cell_type": "code",
      "metadata": {
        "id": "TLeQEckl1R5t",
        "colab": {
          "base_uri": "https://localhost:8080/"
        },
        "outputId": "ae300ff1-a9e0-4b91-904d-165714d0520b"
      },
      "source": [
        "#XOr Gate\n",
        "x= bool(int(input(\"Enter the first number:\")))\n",
        "y= bool(int(input(\"Enter the second number:\")))\n",
        "if x==y:\n",
        "  print(False)\n",
        "else:\n",
        "  print(True)"
      ],
      "execution_count": null,
      "outputs": [
        {
          "output_type": "stream",
          "text": [
            "Enter the first number:1\n",
            "Enter the second number:1\n",
            "False\n"
          ],
          "name": "stdout"
        }
      ]
    },
    {
      "cell_type": "code",
      "metadata": {
        "colab": {
          "base_uri": "https://localhost:8080/"
        },
        "id": "9FuMNyjIDea4",
        "outputId": "2ec544d8-a376-44e6-c91c-0fcde205e58e"
      },
      "source": [
        "x= bool(int(input(\"Enter 1 or 0: \")))\n",
        "print(x)\n",
        "print(not x)"
      ],
      "execution_count": null,
      "outputs": [
        {
          "output_type": "stream",
          "text": [
            "Enter 1 or 0: 0\n",
            "False\n",
            "True\n"
          ],
          "name": "stdout"
        }
      ]
    },
    {
      "cell_type": "code",
      "metadata": {
        "id": "Cx9q7ses_0k8"
      },
      "source": [
        "def and_gate(a,b):\n",
        "  if a=='1' and b=='1':\n",
        "    return True"
      ],
      "execution_count": null,
      "outputs": []
    },
    {
      "cell_type": "code",
      "metadata": {
        "id": "g7DVNYx9TsI0",
        "colab": {
          "base_uri": "https://localhost:8080/",
          "height": 34
        },
        "outputId": "c0d96041-bc84-46b3-e21e-9ca6282a7933"
      },
      "source": [
        "if and_gate(x,y)== True:\n",
        "  print(\"1\")\n",
        "else:\n",
        "  print(\"0\")"
      ],
      "execution_count": null,
      "outputs": [
        {
          "output_type": "stream",
          "text": [
            "1\n"
          ],
          "name": "stdout"
        }
      ]
    },
    {
      "cell_type": "code",
      "metadata": {
        "id": "jQvbKvwG--LE",
        "colab": {
          "base_uri": "https://localhost:8080/",
          "height": 34
        },
        "outputId": "5d4a6ec8-c001-4691-e1db-4daf4c23c915"
      },
      "source": [
        "string1= \"axya\"\n",
        "len(string1)"
      ],
      "execution_count": null,
      "outputs": [
        {
          "output_type": "execute_result",
          "data": {
            "text/plain": [
              "4"
            ]
          },
          "metadata": {
            "tags": []
          },
          "execution_count": 47
        }
      ]
    },
    {
      "cell_type": "code",
      "metadata": {
        "id": "KKK8A0Hq4Bbn",
        "colab": {
          "base_uri": "https://localhost:8080/",
          "height": 34
        },
        "outputId": "4e614d52-15ad-48cf-9c11-b88c9e0b278b"
      },
      "source": [
        "if string1[0]==string1[-1]:\n",
        "  print(True)"
      ],
      "execution_count": null,
      "outputs": [
        {
          "output_type": "stream",
          "text": [
            "True\n"
          ],
          "name": "stdout"
        }
      ]
    },
    {
      "cell_type": "code",
      "metadata": {
        "id": "tLaR7CI34Mgf"
      },
      "source": [
        "x= input(Ënter)"
      ],
      "execution_count": null,
      "outputs": []
    }
  ]
}