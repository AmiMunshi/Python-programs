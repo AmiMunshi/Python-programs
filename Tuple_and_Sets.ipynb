{
  "nbformat": 4,
  "nbformat_minor": 0,
  "metadata": {
    "colab": {
      "name": "Tuple and Sets.ipynb",
      "provenance": [],
      "include_colab_link": true
    },
    "kernelspec": {
      "name": "python3",
      "display_name": "Python 3"
    }
  },
  "cells": [
    {
      "cell_type": "markdown",
      "metadata": {
        "id": "view-in-github",
        "colab_type": "text"
      },
      "source": [
        "<a href=\"https://colab.research.google.com/github/AmiMunshi/Python-programs/blob/master/Tuple_and_Sets.ipynb\" target=\"_parent\"><img src=\"https://colab.research.google.com/assets/colab-badge.svg\" alt=\"Open In Colab\"/></a>"
      ]
    },
    {
      "cell_type": "code",
      "metadata": {
        "id": "wc6m9JwJoOjR",
        "colab": {
          "base_uri": "https://localhost:8080/",
          "height": 34
        },
        "outputId": "05db7828-5229-4792-c99f-d954f8685e0a"
      },
      "source": [
        "#creating a tuple\n",
        "colours= ('blue', 'yellow', 'orange', 'red')\n",
        "print(colours)"
      ],
      "execution_count": null,
      "outputs": [
        {
          "output_type": "stream",
          "text": [
            "('blue', 'yellow', 'orange', 'red')\n"
          ],
          "name": "stdout"
        }
      ]
    },
    {
      "cell_type": "code",
      "metadata": {
        "id": "TFDvzDy9o0CH",
        "colab": {
          "base_uri": "https://localhost:8080/",
          "height": 34
        },
        "outputId": "2eb6df20-e8ae-43a8-f537-4ecaea8c7897"
      },
      "source": [
        "print(colours[1])"
      ],
      "execution_count": null,
      "outputs": [
        {
          "output_type": "stream",
          "text": [
            "yellow\n"
          ],
          "name": "stdout"
        }
      ]
    },
    {
      "cell_type": "code",
      "metadata": {
        "id": "nGgATxOg9IvF",
        "colab": {
          "base_uri": "https://localhost:8080/",
          "height": 118
        },
        "outputId": "c5857052-a382-46a9-d529-f7e73c224551"
      },
      "source": [
        "#  Program 1 Iterate over a tuple and find length of each word\n",
        "tuple1= ('sad','angry', 'happy', 'anxious', 'greedy','excited')\n",
        "for word in tuple1:\n",
        "  print(word,len(word))"
      ],
      "execution_count": null,
      "outputs": [
        {
          "output_type": "stream",
          "text": [
            "sad 3\n",
            "angry 5\n",
            "happy 5\n",
            "anxious 7\n",
            "greedy 6\n",
            "excited 7\n"
          ],
          "name": "stdout"
        }
      ]
    },
    {
      "cell_type": "code",
      "metadata": {
        "id": "OKIS2EBMqUbM",
        "colab": {
          "base_uri": "https://localhost:8080/",
          "height": 50
        },
        "outputId": "22af8c99-3411-418f-8908-a3f332beb44d"
      },
      "source": [
        "#Program 3 Unpack tuple in different variables\n",
        "\n",
        "a,b,c,d= colours\n",
        "print(a)\n",
        "print(b)"
      ],
      "execution_count": null,
      "outputs": [
        {
          "output_type": "stream",
          "text": [
            "blue\n",
            "yellow\n"
          ],
          "name": "stdout"
        }
      ]
    },
    {
      "cell_type": "code",
      "metadata": {
        "id": "l1VteqlAsC53",
        "colab": {
          "base_uri": "https://localhost:8080/"
        },
        "outputId": "7ecd0090-5a60-40b9-ebf5-b1babfeb6afa"
      },
      "source": [
        "#Program 2 Replace last value of tuples in the list\n",
        "list1= [(10,20,30),(40,50,60),(70,80,90)]\n",
        "print([t[:-1]+(100,) for t in list1])"
      ],
      "execution_count": null,
      "outputs": [
        {
          "output_type": "stream",
          "text": [
            "[(10, 20, 100), (40, 50, 100), (70, 80, 100)]\n"
          ],
          "name": "stdout"
        }
      ]
    },
    {
      "cell_type": "code",
      "metadata": {
        "colab": {
          "base_uri": "https://localhost:8080/"
        },
        "id": "uPWXgx43sBKO",
        "outputId": "cb051d4d-62fc-4c0a-b30e-e013d64912d6"
      },
      "source": [
        "for t in list1:\n",
        "  print (t[:-1]+(100,))\n",
        "  print(type(t[:-1]),type((100,)))"
      ],
      "execution_count": null,
      "outputs": [
        {
          "output_type": "stream",
          "text": [
            "(10, 20, 100)\n",
            "<class 'tuple'> <class 'tuple'>\n",
            "(40, 50, 100)\n",
            "<class 'tuple'> <class 'tuple'>\n",
            "(70, 80, 100)\n",
            "<class 'tuple'> <class 'tuple'>\n"
          ],
          "name": "stdout"
        }
      ]
    },
    {
      "cell_type": "code",
      "metadata": {
        "colab": {
          "base_uri": "https://localhost:8080/"
        },
        "id": "46-CDstcsypl",
        "outputId": "20412583-48c1-47ea-eff5-def2780b0caa"
      },
      "source": [
        "a=(1,2,3)\n",
        "b=(4,5,6)\n",
        "a=a+b\n",
        "c"
      ],
      "execution_count": null,
      "outputs": [
        {
          "output_type": "execute_result",
          "data": {
            "text/plain": [
              "(1, 2, 3, 4, 5, 6)"
            ]
          },
          "metadata": {
            "tags": []
          },
          "execution_count": 5
        }
      ]
    },
    {
      "cell_type": "code",
      "metadata": {
        "id": "uP8fZzM095kQ",
        "colab": {
          "base_uri": "https://localhost:8080/",
          "height": 34
        },
        "outputId": "d8834a1d-eab4-48de-dbf9-c0a0a26b7f54"
      },
      "source": [
        "#Replace last value of tuples in the list\n",
        "list1= [(10,20,30), (40,50,60), (70,80,90)]\n",
        "print([t[:-1]+(100,) for t in list1])"
      ],
      "execution_count": null,
      "outputs": [
        {
          "output_type": "stream",
          "text": [
            "[(10, 20, 100), (40, 50, 100), (70, 80, 100)]\n"
          ],
          "name": "stdout"
        }
      ]
    },
    {
      "cell_type": "code",
      "metadata": {
        "id": "G9_pVYPU-v0L",
        "colab": {
          "base_uri": "https://localhost:8080/",
          "height": 34
        },
        "outputId": "713ff4a2-239f-4e97-e7cd-d88fa77edd79"
      },
      "source": [
        "list1= [(10,20,30), (40,50,60), (70,80,90)]\n",
        "list2=[]\n",
        "for t in list1:\n",
        "  t= t[0:]+(30,)\n",
        "  list2.append(t)\n",
        "print(list2)\n"
      ],
      "execution_count": null,
      "outputs": [
        {
          "output_type": "stream",
          "text": [
            "[(10, 20, 30, 30), (40, 50, 60, 30), (70, 80, 90, 30)]\n"
          ],
          "name": "stdout"
        }
      ]
    },
    {
      "cell_type": "code",
      "metadata": {
        "id": "9G6XTkyMuKtl",
        "colab": {
          "base_uri": "https://localhost:8080/",
          "height": 50
        },
        "outputId": "50698074-d8a6-4bc8-9a46-5994d1bc8215"
      },
      "source": [
        "# Creating empty set\n",
        "numbers= set()\n",
        "even= {2,4,6,8,10}\n",
        "print(even)\n",
        "odd= {1,3,5,7,9}\n",
        "print(odd)"
      ],
      "execution_count": null,
      "outputs": [
        {
          "output_type": "stream",
          "text": [
            "{2, 4, 6, 8, 10}\n",
            "{1, 3, 5, 7, 9}\n"
          ],
          "name": "stdout"
        }
      ]
    },
    {
      "cell_type": "code",
      "metadata": {
        "id": "64QjYIgHvSdw",
        "colab": {
          "base_uri": "https://localhost:8080/",
          "height": 101
        },
        "outputId": "1286da5b-1f08-4b2f-c0c2-414ac597f404"
      },
      "source": [
        "# Program for iterating over a set\n",
        "for num in even:\n",
        "  print(num)"
      ],
      "execution_count": null,
      "outputs": [
        {
          "output_type": "stream",
          "text": [
            "2\n",
            "4\n",
            "6\n",
            "8\n",
            "10\n"
          ],
          "name": "stdout"
        }
      ]
    },
    {
      "cell_type": "code",
      "metadata": {
        "id": "ss3nUHteviZ_",
        "colab": {
          "base_uri": "https://localhost:8080/",
          "height": 212
        },
        "outputId": "d5796695-a04e-44d2-fcce-43c72a5f3459"
      },
      "source": [
        "# Converting string to set\n",
        "string1= \"good morning India\"\n",
        "set1= set(string1)\n",
        "print(set1)\n",
        "print(set1[4]) # Indexing not possible in set"
      ],
      "execution_count": null,
      "outputs": [
        {
          "output_type": "stream",
          "text": [
            "{' ', 'o', 'i', 'd', 'm', 'a', 'r', 'I', 'g', 'n'}\n"
          ],
          "name": "stdout"
        },
        {
          "output_type": "error",
          "ename": "TypeError",
          "evalue": "ignored",
          "traceback": [
            "\u001b[0;31m---------------------------------------------------------------------------\u001b[0m",
            "\u001b[0;31mTypeError\u001b[0m                                 Traceback (most recent call last)",
            "\u001b[0;32m<ipython-input-20-2c9bb8ec1d75>\u001b[0m in \u001b[0;36m<module>\u001b[0;34m()\u001b[0m\n\u001b[1;32m      3\u001b[0m \u001b[0mset1\u001b[0m\u001b[0;34m=\u001b[0m \u001b[0mset\u001b[0m\u001b[0;34m(\u001b[0m\u001b[0mstring1\u001b[0m\u001b[0;34m)\u001b[0m\u001b[0;34m\u001b[0m\u001b[0;34m\u001b[0m\u001b[0m\n\u001b[1;32m      4\u001b[0m \u001b[0mprint\u001b[0m\u001b[0;34m(\u001b[0m\u001b[0mset1\u001b[0m\u001b[0;34m)\u001b[0m\u001b[0;34m\u001b[0m\u001b[0;34m\u001b[0m\u001b[0m\n\u001b[0;32m----> 5\u001b[0;31m \u001b[0mprint\u001b[0m\u001b[0;34m(\u001b[0m\u001b[0mset1\u001b[0m\u001b[0;34m[\u001b[0m\u001b[0;36m4\u001b[0m\u001b[0;34m]\u001b[0m\u001b[0;34m)\u001b[0m\u001b[0;34m\u001b[0m\u001b[0;34m\u001b[0m\u001b[0m\n\u001b[0m",
            "\u001b[0;31mTypeError\u001b[0m: 'set' object does not support indexing"
          ]
        }
      ]
    },
    {
      "cell_type": "code",
      "metadata": {
        "id": "-vSGTZnvv1pl",
        "colab": {
          "base_uri": "https://localhost:8080/",
          "height": 50
        },
        "outputId": "1bdb6d49-145a-4a86-8386-1ffae3eb4365"
      },
      "source": [
        "list1= list(string1)\n",
        "print(list1)\n",
        "tuple1= tuple(string1)\n",
        "print(tuple1)"
      ],
      "execution_count": null,
      "outputs": [
        {
          "output_type": "stream",
          "text": [
            "['g', 'o', 'o', 'd', ' ', 'm', 'o', 'r', 'n', 'i', 'n', 'g', ' ', 'I', 'n', 'd', 'i', 'a']\n",
            "('g', 'o', 'o', 'd', ' ', 'm', 'o', 'r', 'n', 'i', 'n', 'g', ' ', 'I', 'n', 'd', 'i', 'a')\n"
          ],
          "name": "stdout"
        }
      ]
    },
    {
      "cell_type": "code",
      "metadata": {
        "id": "gMawxf4owrAY",
        "colab": {
          "base_uri": "https://localhost:8080/",
          "height": 50
        },
        "outputId": "ee26b636-b8b4-4d10-c2ba-21c62adcc6d1"
      },
      "source": [
        "emotions= set()\n",
        "emotions.add(\"happy\")\n",
        "print(emotions)\n",
        "emotions.update([\"sad\", \"excited\"])\n",
        "print(emotions)"
      ],
      "execution_count": null,
      "outputs": [
        {
          "output_type": "stream",
          "text": [
            "{'happy'}\n",
            "{'happy', 'sad', 'excited'}\n"
          ],
          "name": "stdout"
        }
      ]
    },
    {
      "cell_type": "code",
      "metadata": {
        "id": "-7OfM1XdGUNR",
        "colab": {
          "base_uri": "https://localhost:8080/",
          "height": 50
        },
        "outputId": "e158a712-f085-47df-942b-96f4d3c89e97"
      },
      "source": [
        "color = set()\n",
        "color.add(\"black\")\n",
        "print(color)\n",
        "#Add multiple items\n",
        "color.update([\"Red\", \"Yellow\"])\n",
        "print(color)"
      ],
      "execution_count": null,
      "outputs": [
        {
          "output_type": "stream",
          "text": [
            "{'black'}\n",
            "{'black', 'Red', 'Yellow'}\n"
          ],
          "name": "stdout"
        }
      ]
    },
    {
      "cell_type": "code",
      "metadata": {
        "id": "mG63wD0_v006",
        "colab": {
          "base_uri": "https://localhost:8080/",
          "height": 34
        },
        "outputId": "11db5b12-0f2b-4e89-87f4-4e1c6cba51aa"
      },
      "source": [
        "color1= color\n",
        "print(color1)"
      ],
      "execution_count": null,
      "outputs": [
        {
          "output_type": "stream",
          "text": [
            "{'black', 'Red', 'Yellow'}\n"
          ],
          "name": "stdout"
        }
      ]
    },
    {
      "cell_type": "code",
      "metadata": {
        "id": "wZgV8c8uxo7Z",
        "colab": {
          "base_uri": "https://localhost:8080/",
          "height": 34
        },
        "outputId": "561eb67d-4214-44cf-a436-d83066aa0177"
      },
      "source": [
        "color.remove('black')\n",
        "print(color)"
      ],
      "execution_count": null,
      "outputs": [
        {
          "output_type": "stream",
          "text": [
            "{'Red', 'Yellow'}\n"
          ],
          "name": "stdout"
        }
      ]
    },
    {
      "cell_type": "code",
      "metadata": {
        "id": "f-2noC0-x-ib",
        "colab": {
          "base_uri": "https://localhost:8080/",
          "height": 34
        },
        "outputId": "7a68e05e-86a1-494a-f17e-ad9f973465fc"
      },
      "source": [
        "color1.discard(\"black\")\n",
        "print(color1)"
      ],
      "execution_count": null,
      "outputs": [
        {
          "output_type": "stream",
          "text": [
            "{'Red', 'Yellow'}\n"
          ],
          "name": "stdout"
        }
      ]
    },
    {
      "cell_type": "code",
      "metadata": {
        "id": "xeSmXSdGyFBf",
        "colab": {
          "base_uri": "https://localhost:8080/",
          "height": 178
        },
        "outputId": "28c2343b-0acc-4d5c-f91d-c70d842ba5e4"
      },
      "source": [
        "color.remove(\"white\")\n",
        "print(color)"
      ],
      "execution_count": null,
      "outputs": [
        {
          "output_type": "error",
          "ename": "KeyError",
          "evalue": "ignored",
          "traceback": [
            "\u001b[0;31m---------------------------------------------------------------------------\u001b[0m",
            "\u001b[0;31mKeyError\u001b[0m                                  Traceback (most recent call last)",
            "\u001b[0;32m<ipython-input-28-e833996570ae>\u001b[0m in \u001b[0;36m<module>\u001b[0;34m()\u001b[0m\n\u001b[0;32m----> 1\u001b[0;31m \u001b[0mcolor\u001b[0m\u001b[0;34m.\u001b[0m\u001b[0mremove\u001b[0m\u001b[0;34m(\u001b[0m\u001b[0;34m\"white\"\u001b[0m\u001b[0;34m)\u001b[0m\u001b[0;34m\u001b[0m\u001b[0;34m\u001b[0m\u001b[0m\n\u001b[0m\u001b[1;32m      2\u001b[0m \u001b[0mprint\u001b[0m\u001b[0;34m(\u001b[0m\u001b[0mcolor\u001b[0m\u001b[0;34m)\u001b[0m\u001b[0;34m\u001b[0m\u001b[0;34m\u001b[0m\u001b[0m\n",
            "\u001b[0;31mKeyError\u001b[0m: 'white'"
          ]
        }
      ]
    },
    {
      "cell_type": "code",
      "metadata": {
        "id": "SdMmLB30yMnd",
        "colab": {
          "base_uri": "https://localhost:8080/",
          "height": 34
        },
        "outputId": "8c76b993-9ead-4b94-929d-63d9e6cc3a1d"
      },
      "source": [
        "color1.discard(\"white\")\n",
        "print(color1)"
      ],
      "execution_count": null,
      "outputs": [
        {
          "output_type": "stream",
          "text": [
            "{'Red', 'Yellow'}\n"
          ],
          "name": "stdout"
        }
      ]
    },
    {
      "cell_type": "code",
      "metadata": {
        "id": "1EyWH__ly9em",
        "colab": {
          "base_uri": "https://localhost:8080/"
        },
        "outputId": "b9de0bf9-8472-4a62-f859-98525d5ebf4e"
      },
      "source": [
        "# Union of two sets\n",
        "even={2,4,6,8}\n",
        "odd= {1,3,5,7}\n",
        "numbers= even.union(odd)\n",
        "print(numbers)"
      ],
      "execution_count": null,
      "outputs": [
        {
          "output_type": "stream",
          "text": [
            "{1, 2, 3, 4, 5, 6, 7, 8}\n"
          ],
          "name": "stdout"
        }
      ]
    },
    {
      "cell_type": "code",
      "metadata": {
        "id": "6rB8s6TczN-i",
        "colab": {
          "base_uri": "https://localhost:8080/",
          "height": 34
        },
        "outputId": "40e943b1-43c9-48af-fbb2-e8f7e15f9a7c"
      },
      "source": [
        "numbers= even|odd\n",
        "print(numbers)"
      ],
      "execution_count": null,
      "outputs": [
        {
          "output_type": "stream",
          "text": [
            "{1, 2, 3, 4, 5, 6, 7, 8}\n"
          ],
          "name": "stdout"
        }
      ]
    },
    {
      "cell_type": "code",
      "metadata": {
        "id": "d8RdOEvCz5LF",
        "colab": {
          "base_uri": "https://localhost:8080/",
          "height": 50
        },
        "outputId": "bd531a74-4517-4fb9-e1cf-9cef53b6daf2"
      },
      "source": [
        "# Set intersection\n",
        "a= {1,2,3}\n",
        "b={1,2,3,4,5,6}\n",
        "print(a & b)\n",
        "print(a.intersection(b))"
      ],
      "execution_count": null,
      "outputs": [
        {
          "output_type": "stream",
          "text": [
            "{1, 2, 3}\n",
            "{1, 2, 3}\n"
          ],
          "name": "stdout"
        }
      ]
    },
    {
      "cell_type": "code",
      "metadata": {
        "id": "mOV9L0x00Kps",
        "colab": {
          "base_uri": "https://localhost:8080/",
          "height": 34
        },
        "outputId": "afd77a99-e209-4095-bd8f-89cda1332401"
      },
      "source": [
        "# Set difference\n",
        "print(a-b)\n"
      ],
      "execution_count": null,
      "outputs": [
        {
          "output_type": "stream",
          "text": [
            "set()\n"
          ],
          "name": "stdout"
        }
      ]
    },
    {
      "cell_type": "code",
      "metadata": {
        "id": "E589R56N0YPW",
        "colab": {
          "base_uri": "https://localhost:8080/",
          "height": 50
        },
        "outputId": "68264bbe-ef8d-4589-ebb8-690155bc328d"
      },
      "source": [
        "print(b-a)\n",
        "print(b.difference(a))"
      ],
      "execution_count": null,
      "outputs": [
        {
          "output_type": "stream",
          "text": [
            "{4, 5, 6}\n",
            "{4, 5, 6}\n"
          ],
          "name": "stdout"
        }
      ]
    },
    {
      "cell_type": "code",
      "metadata": {
        "id": "XbsAm8TV0vx6",
        "colab": {
          "base_uri": "https://localhost:8080/",
          "height": 50
        },
        "outputId": "3983cf03-6357-4035-9ad6-b3031adcde5b"
      },
      "source": [
        "#Exclusivity\n",
        "d= {1,2,3,9,10,11}\n",
        "c= {1,2,3,4,5,6,7}\n",
        "print(d^c)\n",
        "print(d.symmetric_difference(c))"
      ],
      "execution_count": null,
      "outputs": [
        {
          "output_type": "stream",
          "text": [
            "{4, 5, 6, 7, 9, 10, 11}\n",
            "{4, 5, 6, 7, 9, 10, 11}\n"
          ],
          "name": "stdout"
        }
      ]
    },
    {
      "cell_type": "code",
      "metadata": {
        "id": "_REKvOqBjiF-",
        "colab": {
          "base_uri": "https://localhost:8080/",
          "height": 34
        },
        "outputId": "9648c2f0-1b9b-452f-bd79-1785e5597f75"
      },
      "source": [
        "a= {1,2,3}\n",
        "c= {1,2,3,4,5,6,7}\n",
        "print(c-a)"
      ],
      "execution_count": null,
      "outputs": [
        {
          "output_type": "stream",
          "text": [
            "{4, 5, 6, 7}\n"
          ],
          "name": "stdout"
        }
      ]
    },
    {
      "cell_type": "code",
      "metadata": {
        "id": "qMav6KZLjmU3",
        "colab": {
          "base_uri": "https://localhost:8080/",
          "height": 34
        },
        "outputId": "ec4eb59c-0ee0-4671-bdd8-fa8271723920"
      },
      "source": [
        "a= {1,2,3}\n",
        "c= {1,2,3,4,5,6,7}\n",
        "print(a&c)"
      ],
      "execution_count": null,
      "outputs": [
        {
          "output_type": "stream",
          "text": [
            "{1, 2, 3}\n"
          ],
          "name": "stdout"
        }
      ]
    },
    {
      "cell_type": "code",
      "metadata": {
        "id": "pEZjCnBWkPe3",
        "colab": {
          "base_uri": "https://localhost:8080/",
          "height": 34
        },
        "outputId": "1a1643fc-dc49-47c9-d1b9-4f0b05bc9af5"
      },
      "source": [
        "d= {1,2,3,9,10,11}\n",
        "c= {1,2,3,4,5,6,7}\n",
        "print(d^c)"
      ],
      "execution_count": null,
      "outputs": [
        {
          "output_type": "stream",
          "text": [
            "{4, 5, 6, 7, 9, 10, 11}\n"
          ],
          "name": "stdout"
        }
      ]
    },
    {
      "cell_type": "code",
      "metadata": {
        "id": "Lm6L-9gSkcp-",
        "colab": {
          "base_uri": "https://localhost:8080/",
          "height": 34
        },
        "outputId": "15ec7c2f-5da9-4107-995c-8478425cebfb"
      },
      "source": [
        "a= {1,2,3,4}\n",
        "b= {1,2,3,4,5}\n",
        "a.issubset(b)"
      ],
      "execution_count": null,
      "outputs": [
        {
          "output_type": "execute_result",
          "data": {
            "text/plain": [
              "True"
            ]
          },
          "metadata": {
            "tags": []
          },
          "execution_count": 41
        }
      ]
    },
    {
      "cell_type": "code",
      "metadata": {
        "id": "h2yNZnIX1wtD",
        "colab": {
          "base_uri": "https://localhost:8080/",
          "height": 34
        },
        "outputId": "ce2abb5a-2272-4419-aea6-ed1890e9adc9"
      },
      "source": [
        "b.issubset(a)"
      ],
      "execution_count": null,
      "outputs": [
        {
          "output_type": "execute_result",
          "data": {
            "text/plain": [
              "False"
            ]
          },
          "metadata": {
            "tags": []
          },
          "execution_count": 42
        }
      ]
    },
    {
      "cell_type": "code",
      "metadata": {
        "id": "F1VWZDGb17oC",
        "colab": {
          "base_uri": "https://localhost:8080/",
          "height": 34
        },
        "outputId": "1a377208-0ab2-4b67-ae49-5c93e7b9e37b"
      },
      "source": [
        "a.issuperset(b)"
      ],
      "execution_count": null,
      "outputs": [
        {
          "output_type": "execute_result",
          "data": {
            "text/plain": [
              "False"
            ]
          },
          "metadata": {
            "tags": []
          },
          "execution_count": 43
        }
      ]
    },
    {
      "cell_type": "code",
      "metadata": {
        "id": "K0GPvrvZ2K1S",
        "colab": {
          "base_uri": "https://localhost:8080/",
          "height": 34
        },
        "outputId": "7f6763f4-9861-4b47-a52b-63ed7e9fc66f"
      },
      "source": [
        "b.issuperset(a)"
      ],
      "execution_count": null,
      "outputs": [
        {
          "output_type": "execute_result",
          "data": {
            "text/plain": [
              "True"
            ]
          },
          "metadata": {
            "tags": []
          },
          "execution_count": 44
        }
      ]
    },
    {
      "cell_type": "code",
      "metadata": {
        "id": "Fu9iImby2NyP",
        "colab": {
          "base_uri": "https://localhost:8080/",
          "height": 34
        },
        "outputId": "810d326f-13dd-483f-9f5d-c25824ae622b"
      },
      "source": [
        "a<=b"
      ],
      "execution_count": null,
      "outputs": [
        {
          "output_type": "execute_result",
          "data": {
            "text/plain": [
              "True"
            ]
          },
          "metadata": {
            "tags": []
          },
          "execution_count": 45
        }
      ]
    },
    {
      "cell_type": "code",
      "metadata": {
        "id": "bs5mEZCj2Q_O",
        "colab": {
          "base_uri": "https://localhost:8080/",
          "height": 34
        },
        "outputId": "d1a3038d-e2b9-4167-b56d-4f9c4cb0e179"
      },
      "source": [
        "a>=b"
      ],
      "execution_count": null,
      "outputs": [
        {
          "output_type": "execute_result",
          "data": {
            "text/plain": [
              "False"
            ]
          },
          "metadata": {
            "tags": []
          },
          "execution_count": 46
        }
      ]
    },
    {
      "cell_type": "code",
      "metadata": {
        "id": "2aZjgHLw2U3U",
        "colab": {
          "base_uri": "https://localhost:8080/",
          "height": 34
        },
        "outputId": "9590f1be-c260-450f-d14c-18019db053d0"
      },
      "source": [
        "a<a"
      ],
      "execution_count": null,
      "outputs": [
        {
          "output_type": "execute_result",
          "data": {
            "text/plain": [
              "False"
            ]
          },
          "metadata": {
            "tags": []
          },
          "execution_count": 47
        }
      ]
    },
    {
      "cell_type": "code",
      "metadata": {
        "id": "bgOQYcaE2ZK1",
        "colab": {
          "base_uri": "https://localhost:8080/",
          "height": 34
        },
        "outputId": "be054bb3-d60e-4589-b634-898a9751f883"
      },
      "source": [
        "a<=a"
      ],
      "execution_count": null,
      "outputs": [
        {
          "output_type": "execute_result",
          "data": {
            "text/plain": [
              "True"
            ]
          },
          "metadata": {
            "tags": []
          },
          "execution_count": 48
        }
      ]
    },
    {
      "cell_type": "code",
      "metadata": {
        "id": "VkZ3NO9H2b2y",
        "colab": {
          "base_uri": "https://localhost:8080/",
          "height": 34
        },
        "outputId": "4e7bd4a1-9511-41df-edf1-6d668049e15c"
      },
      "source": [
        "# Creating a dictionary\n",
        "dict1= {\"India\": 30, \"Russia\":35, \"Britain\": 25}\n",
        "print(dict1)"
      ],
      "execution_count": null,
      "outputs": [
        {
          "output_type": "stream",
          "text": [
            "{'India': 30, 'Russia': 35, 'Britain': 25}\n"
          ],
          "name": "stdout"
        }
      ]
    },
    {
      "cell_type": "code",
      "metadata": {
        "id": "0tBoyLlh3c-9",
        "colab": {
          "base_uri": "https://localhost:8080/",
          "height": 34
        },
        "outputId": "a061c8d5-9855-4c3f-f56d-3eca201c333b"
      },
      "source": [
        "dict1[\"Russia\"]"
      ],
      "execution_count": null,
      "outputs": [
        {
          "output_type": "execute_result",
          "data": {
            "text/plain": [
              "35"
            ]
          },
          "metadata": {
            "tags": []
          },
          "execution_count": 50
        }
      ]
    },
    {
      "cell_type": "code",
      "metadata": {
        "id": "hpoC9-Xa3mJx",
        "colab": {
          "base_uri": "https://localhost:8080/",
          "height": 34
        },
        "outputId": "a914c355-7c45-4f00-ffb5-2f67391582f6"
      },
      "source": [
        "dict1[\"Britain\"]= 30\n",
        "print(dict1)"
      ],
      "execution_count": null,
      "outputs": [
        {
          "output_type": "stream",
          "text": [
            "{'India': 30, 'Russia': 35, 'Britain': 30}\n"
          ],
          "name": "stdout"
        }
      ]
    },
    {
      "cell_type": "code",
      "metadata": {
        "id": "Idmv9uaS42s8",
        "colab": {
          "base_uri": "https://localhost:8080/",
          "height": 34
        },
        "outputId": "2c81cb74-bdfc-45a6-9e6b-2983071578ba"
      },
      "source": [
        "temp= {\"Australia\": 20}\n",
        "dict1.update(temp)\n",
        "print(dict1)"
      ],
      "execution_count": null,
      "outputs": [
        {
          "output_type": "stream",
          "text": [
            "{'India': 30, 'Russia': 35, 'Britain': 30, 'Australia': 20}\n"
          ],
          "name": "stdout"
        }
      ]
    },
    {
      "cell_type": "code",
      "metadata": {
        "id": "dExdHwxr5XOl",
        "colab": {
          "base_uri": "https://localhost:8080/",
          "height": 84
        },
        "outputId": "583d3b5c-0ec0-460b-eebd-d1c99e728a9a"
      },
      "source": [
        "#Printing keys of the dictionary\n",
        "for keys in dict1:\n",
        "  print(keys)"
      ],
      "execution_count": null,
      "outputs": [
        {
          "output_type": "stream",
          "text": [
            "India\n",
            "Russia\n",
            "Britain\n",
            "Australia\n"
          ],
          "name": "stdout"
        }
      ]
    },
    {
      "cell_type": "code",
      "metadata": {
        "id": "_5puRQYT5npN"
      },
      "source": [
        ""
      ],
      "execution_count": null,
      "outputs": []
    },
    {
      "cell_type": "code",
      "metadata": {
        "id": "tw5RejE432Ab",
        "colab": {
          "base_uri": "https://localhost:8080/",
          "height": 386
        },
        "outputId": "9a8dfe0d-10c2-4e9e-f06f-9959d5ff6286"
      },
      "source": [
        "# Create a dictionary with characters as key and its frequency as value\n",
        "string1= input(\"enter your string: \")\n",
        "dict2= {}\n",
        "for i in string1:\n",
        "  count1= string1.count(i)\n",
        "  temp= {i:count1}\n",
        "  dict2.update(temp)\n",
        "dict2\n"
      ],
      "execution_count": null,
      "outputs": [
        {
          "output_type": "stream",
          "text": [
            "enter your string: hello all and a very good morning, welcome to this session of Python\n"
          ],
          "name": "stdout"
        },
        {
          "output_type": "execute_result",
          "data": {
            "text/plain": [
              "{' ': 12,\n",
              " ',': 1,\n",
              " 'P': 1,\n",
              " 'a': 3,\n",
              " 'c': 1,\n",
              " 'd': 2,\n",
              " 'e': 5,\n",
              " 'f': 1,\n",
              " 'g': 2,\n",
              " 'h': 3,\n",
              " 'i': 3,\n",
              " 'l': 5,\n",
              " 'm': 2,\n",
              " 'n': 5,\n",
              " 'o': 9,\n",
              " 'r': 2,\n",
              " 's': 4,\n",
              " 't': 3,\n",
              " 'v': 1,\n",
              " 'w': 1,\n",
              " 'y': 2}"
            ]
          },
          "metadata": {
            "tags": []
          },
          "execution_count": 55
        }
      ]
    },
    {
      "cell_type": "code",
      "metadata": {
        "id": "h70Zw8839s84",
        "colab": {
          "base_uri": "https://localhost:8080/",
          "height": 34
        },
        "outputId": "a327b624-45b9-48dd-8ed1-5f2ffefa35c2"
      },
      "source": [
        "words= input(\"Enter your words:\")"
      ],
      "execution_count": null,
      "outputs": [
        {
          "output_type": "stream",
          "text": [
            "Enter your words:red black green black red orange\n"
          ],
          "name": "stdout"
        }
      ]
    },
    {
      "cell_type": "code",
      "metadata": {
        "id": "1cqtB2oJ953G",
        "colab": {
          "base_uri": "https://localhost:8080/",
          "height": 50
        },
        "outputId": "69ad1054-9813-477c-9eac-0e64b9479120"
      },
      "source": [
        "print(words)\n",
        "type(words)"
      ],
      "execution_count": null,
      "outputs": [
        {
          "output_type": "stream",
          "text": [
            "red black green black red orange\n"
          ],
          "name": "stdout"
        },
        {
          "output_type": "execute_result",
          "data": {
            "text/plain": [
              "str"
            ]
          },
          "metadata": {
            "tags": []
          },
          "execution_count": 59
        }
      ]
    },
    {
      "cell_type": "code",
      "metadata": {
        "id": "LA4AnQRY-FAV",
        "colab": {
          "base_uri": "https://localhost:8080/",
          "height": 34
        },
        "outputId": "e7939fda-0f8b-406d-ef23-ddd28dce3808"
      },
      "source": [
        "words= words.split(\" \")\n",
        "print(words)"
      ],
      "execution_count": null,
      "outputs": [
        {
          "output_type": "stream",
          "text": [
            "['red', 'black', 'green', 'black', 'red', 'orange']\n"
          ],
          "name": "stdout"
        }
      ]
    },
    {
      "cell_type": "code",
      "metadata": {
        "id": "90niZZwj6XMy",
        "colab": {
          "base_uri": "https://localhost:8080/",
          "height": 34
        },
        "outputId": "075280ac-05b6-4703-e9e3-e5bc702ef689"
      },
      "source": [
        "#Counting frequency of words and storing in the dictionary\n",
        "#words=[ 'red','red','black', 'white', 'green', 'black', 'orange', 'pink','red', 'white']\n",
        "words= input(\"Enter your words:\")\n",
        "\n",
        "dict3= {}\n",
        "for word in words:\n",
        "  count1= words.count(word)\n",
        "  temp= {word:count1}\n",
        "  dict3.update(temp)\n",
        "print(dict3)"
      ],
      "execution_count": null,
      "outputs": [
        {
          "output_type": "stream",
          "text": [
            "{'red': 3, 'black': 2, 'white': 2, 'green': 1, 'orange': 1, 'pink': 1}\n"
          ],
          "name": "stdout"
        }
      ]
    },
    {
      "cell_type": "code",
      "metadata": {
        "id": "2eRMQy5v8GsR",
        "colab": {
          "base_uri": "https://localhost:8080/",
          "height": 50
        },
        "outputId": "962169f4-ae03-4436-8024-a72d65b1ed93"
      },
      "source": [
        "# create a dictionay to store the number and its square for the given range of numbers\n",
        "N= int(input(\"enter the range of your numbers: \"))\n",
        "squares={}\n",
        "for i in range(N):\n",
        "  squares[i]= i**2\n",
        "print(squares)"
      ],
      "execution_count": null,
      "outputs": [
        {
          "output_type": "stream",
          "text": [
            "enter the range of your numbers: 5\n",
            "{0: 0, 1: 1, 2: 4, 3: 9, 4: 16}\n"
          ],
          "name": "stdout"
        }
      ]
    },
    {
      "cell_type": "code",
      "metadata": {
        "id": "ytKH4T_E_wVa",
        "colab": {
          "base_uri": "https://localhost:8080/",
          "height": 50
        },
        "outputId": "1cbb5589-176d-4084-b793-a6239009fa09"
      },
      "source": [
        "N= int(input(\"enter the range of your numbers: \"))\n",
        "squares= {i:i**2 for i in range(N)}\n",
        "print(squares)"
      ],
      "execution_count": null,
      "outputs": [
        {
          "output_type": "stream",
          "text": [
            "enter the range of your numbers: 6\n",
            "{0: 0, 1: 1, 2: 4, 3: 9, 4: 16, 5: 25}\n"
          ],
          "name": "stdout"
        }
      ]
    },
    {
      "cell_type": "code",
      "metadata": {
        "id": "Iv1lru5b_9pX"
      },
      "source": [
        "#"
      ],
      "execution_count": null,
      "outputs": []
    },
    {
      "cell_type": "code",
      "metadata": {
        "id": "2SuZrRdaPg1y"
      },
      "source": [
        ""
      ],
      "execution_count": null,
      "outputs": []
    }
  ]
}